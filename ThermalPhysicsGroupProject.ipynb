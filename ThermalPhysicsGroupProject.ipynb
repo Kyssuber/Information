{
  "nbformat": 4,
  "nbformat_minor": 0,
  "metadata": {
    "colab": {
      "name": "ThermalPhysicsGroupProject.ipynb",
      "version": "0.3.2",
      "provenance": [],
      "collapsed_sections": [],
      "include_colab_link": true
    },
    "kernelspec": {
      "name": "python3",
      "display_name": "Python 3"
    }
  },
  "cells": [
    {
      "cell_type": "markdown",
      "metadata": {
        "id": "view-in-github",
        "colab_type": "text"
      },
      "source": [
        "<a href=\"https://colab.research.google.com/github/Kyssuber/Information/blob/master/ThermalPhysicsGroupProject.ipynb\" target=\"_parent\"><img src=\"https://colab.research.google.com/assets/colab-badge.svg\" alt=\"Open In Colab\"/></a>"
      ]
    },
    {
      "metadata": {
        "id": "z_YC-W_gcv_Z",
        "colab_type": "text"
      },
      "cell_type": "markdown",
      "source": [
        "# **Problem 3.24 -- **\n",
        "\n",
        "Use a computer to study the entropy, temperature, and heat capacity of an Einstein solid, as follows.\n",
        "\n",
        "N = 50 \\\n",
        "q_tot = 100 \\\n",
        "Use separate columns for the energy, multiplicity, entropy, temperature, and heat capcity. To calculate the temperature, evaluate $\\frac{\\Delta U}{\\Delta S}$ for the two nearby rowd in the table. (Recall that $U = q\\epsilon$ for some constant $\\epsilon$.) The heat capacity, $\\frac{\\Delta U}{\\Delta T}$, can be computed in a similar way. The first few rows of the table are\n",
        "\n",
        "q = 0, 1, 2 \\\n",
        "$\\Omega$ = 1, 50, 1275 \\\n",
        "S/k = 0, 3.91, 7.15 \\\n",
        "kT/$\\epsilon$ = 0, 0.28, 0.33 \\\n",
        "C/Nk = ---, 0.12, 0.45 \\\n",
        "Make a graph of entropy vs. energy and a graph of heat capacity vs. temperature. Discuss your prediction for the heat capacity, and compare it to the data for lead, aluminum, and diamond shown in Figure 1.14. Estimate the numerical value of $\\epsilon$, in eV, for each of those real solids."
      ]
    },
    {
      "metadata": {
        "id": "0C3iT6j4bUK3",
        "colab_type": "code",
        "colab": {}
      },
      "cell_type": "code",
      "source": [
        "import numpy as np\n",
        "from matplotlib import pyplot as plt\n",
        "%matplotlib inline\n",
        "from astropy.table import Table\n",
        "from math import factorial #Python trickery :-)"
      ],
      "execution_count": 0,
      "outputs": []
    },
    {
      "metadata": {
        "id": "TViFGq4UbZPR",
        "colab_type": "code",
        "outputId": "6122b5dc-b551-4d83-8e6c-53da3364c981",
        "colab": {
          "base_uri": "https://localhost:8080/",
          "height": 121
        }
      },
      "cell_type": "code",
      "source": [
        "q = np.arange(0,101,1)\n",
        "print(q)"
      ],
      "execution_count": 2,
      "outputs": [
        {
          "output_type": "stream",
          "text": [
            "[  0   1   2   3   4   5   6   7   8   9  10  11  12  13  14  15  16  17\n",
            "  18  19  20  21  22  23  24  25  26  27  28  29  30  31  32  33  34  35\n",
            "  36  37  38  39  40  41  42  43  44  45  46  47  48  49  50  51  52  53\n",
            "  54  55  56  57  58  59  60  61  62  63  64  65  66  67  68  69  70  71\n",
            "  72  73  74  75  76  77  78  79  80  81  82  83  84  85  86  87  88  89\n",
            "  90  91  92  93  94  95  96  97  98  99 100]\n"
          ],
          "name": "stdout"
        }
      ]
    },
    {
      "metadata": {
        "id": "lX7WRPQmeozR",
        "colab_type": "code",
        "colab": {}
      },
      "cell_type": "code",
      "source": [
        "N = 50"
      ],
      "execution_count": 0,
      "outputs": []
    },
    {
      "metadata": {
        "id": "HEHTzi0yfRFZ",
        "colab_type": "code",
        "outputId": "5846f80f-4301-4d44-fd73-8fe642171c8d",
        "colab": {
          "base_uri": "https://localhost:8080/",
          "height": 311
        }
      },
      "cell_type": "code",
      "source": [
        "#For aesthetic purposes, I create two arrays of the multiplicity values: the first is for calculation purposes,\n",
        "#while the second is truncated up to two decimal places to faciliate reading of the values. I proceed with this\n",
        "#technique for each of the columns needed for the table.\n",
        "\n",
        "multiplicity = [] #for calculations\n",
        "multiplicity_table = [] #for aesthetics\n",
        "for i in q:\n",
        "  mult_q = factorial(N+i-1)/(factorial(i)*factorial(N-1))\n",
        "  multiplicity.append(mult_q)\n",
        "  mult_q = '{:.2e}'.format(mult_q) #truncates to two decimal places, writes number in scientific notation\n",
        "  multiplicity_table.append(mult_q)\n",
        "multiplicity = np.array(multiplicity) #conversion to numpy array; more practical for math functions\n",
        "multiplicity_table = np.array(multiplicity_table)\n",
        "print(multiplicity_table)"
      ],
      "execution_count": 4,
      "outputs": [
        {
          "output_type": "stream",
          "text": [
            "['1.00e+00' '5.00e+01' '1.28e+03' '2.21e+04' '2.93e+05' '3.16e+06'\n",
            " '2.90e+07' '2.32e+08' '1.65e+09' '1.06e+10' '6.28e+10' '3.43e+11'\n",
            " '1.74e+12' '8.31e+12' '3.74e+13' '1.60e+14' '6.48e+14' '2.52e+15'\n",
            " '9.36e+15' '3.35e+16' '1.16e+17' '3.85e+17' '1.24e+18' '3.89e+18'\n",
            " '1.18e+19' '3.51e+19' '1.01e+20' '2.85e+20' '7.83e+20' '2.11e+21'\n",
            " '5.54e+21' '1.43e+22' '3.62e+22' '9.00e+22' '2.20e+23' '5.27e+23'\n",
            " '1.24e+24' '2.89e+24' '6.63e+24' '1.49e+25' '3.33e+25' '7.30e+25'\n",
            " '1.58e+26' '3.38e+26' '7.15e+26' '1.49e+27' '3.09e+27' '6.30e+27'\n",
            " '1.27e+28' '2.55e+28' '5.04e+28' '9.89e+28' '1.92e+29' '3.70e+29'\n",
            " '7.05e+29' '1.33e+30' '2.50e+30' '4.65e+30' '8.58e+30' '1.57e+31'\n",
            " '2.85e+31' '5.14e+31' '9.21e+31' '1.64e+32' '2.89e+32' '5.07e+32'\n",
            " '8.83e+32' '1.53e+33' '2.63e+33' '4.50e+33' '7.65e+33' '1.29e+34'\n",
            " '2.17e+34' '3.63e+34' '6.04e+34' '9.98e+34' '1.64e+35' '2.69e+35'\n",
            " '4.37e+35' '7.09e+35' '1.14e+36' '1.83e+36' '2.93e+36' '4.66e+36'\n",
            " '7.38e+36' '1.16e+37' '1.83e+37' '2.85e+37' '4.44e+37' '6.89e+37'\n",
            " '1.06e+38' '1.64e+38' '2.51e+38' '3.83e+38' '5.83e+38' '8.83e+38'\n",
            " '1.33e+39' '2.01e+39' '3.01e+39' '4.50e+39' '6.71e+39']\n"
          ],
          "name": "stdout"
        }
      ]
    },
    {
      "metadata": {
        "id": "kWL6UqNWfrei",
        "colab_type": "code",
        "colab": {}
      },
      "cell_type": "code",
      "source": [
        "entropy_norm = []\n",
        "entropy_norm_table = []\n",
        "for i in multiplicity:\n",
        "  S_k = np.log(i) #S = k*ln(multiplicity)\n",
        "  entropy_norm.append(S_k)\n",
        "  S_k = '%.2f' % S_k #truncates to two decimal places\n",
        "  entropy_norm_table.append(S_k)\n",
        "entropy_norm = np.array(entropy_norm)\n",
        "entropy_norm_table = np.array(entropy_norm_table)"
      ],
      "execution_count": 0,
      "outputs": []
    },
    {
      "metadata": {
        "id": "XsyMas9_iUEY",
        "colab_type": "code",
        "outputId": "da185ad1-15ed-4633-a267-0b6c5b18c308",
        "colab": {
          "base_uri": "https://localhost:8080/",
          "height": 224
        }
      },
      "cell_type": "code",
      "source": [
        "print(entropy_norm_table)"
      ],
      "execution_count": 6,
      "outputs": [
        {
          "output_type": "stream",
          "text": [
            "['0.00' '3.91' '7.15' '10.00' '12.59' '14.97' '17.18' '19.26' '21.23'\n",
            " '23.09' '24.86' '26.56' '28.19' '29.75' '31.25' '32.70' '34.10' '35.46'\n",
            " '36.78' '38.05' '39.29' '40.49' '41.66' '42.81' '43.92' '45.00' '46.06'\n",
            " '47.10' '48.11' '49.10' '50.07' '51.02' '51.94' '52.85' '53.75' '54.62'\n",
            " '55.48' '56.32' '57.15' '57.97' '58.77' '59.55' '60.33' '61.09' '61.83'\n",
            " '62.57' '63.30' '64.01' '64.71' '65.41' '66.09' '66.76' '67.43' '68.08'\n",
            " '68.73' '69.37' '69.99' '70.61' '71.23' '71.83' '72.43' '73.02' '73.60'\n",
            " '74.18' '74.74' '75.31' '75.86' '76.41' '76.95' '77.49' '78.02' '78.54'\n",
            " '79.06' '79.58' '80.09' '80.59' '81.09' '81.58' '82.07' '82.55' '83.03'\n",
            " '83.50' '83.97' '84.43' '84.89' '85.35' '85.80' '86.24' '86.69' '87.13'\n",
            " '87.56' '87.99' '88.42' '88.84' '89.26' '89.68' '90.09' '90.50' '90.90'\n",
            " '91.31' '91.70']\n"
          ],
          "name": "stdout"
        }
      ]
    },
    {
      "metadata": {
        "id": "MilzxOeeiWCf",
        "colab_type": "code",
        "colab": {}
      },
      "cell_type": "code",
      "source": [
        "#recall T is represented as kT/epsilon, so T is simply q2-q1 / S2-S1\n",
        "temp_norm = [] \n",
        "temp_norm_table = []\n",
        "for n in range(0,100):\n",
        "  if n == 0:\n",
        "    temp_norm.append(0) #we know from the given table the first T value.\n",
        "    temp_norm_table.append(0)\n",
        "  else:\n",
        "    T_norm = (q[n+1] - q[n-1]) / (entropy_norm[n+1] - entropy_norm[n-1])\n",
        "    temp_norm.append(T_norm)\n",
        "    T_norm = '%.2f' % T_norm\n",
        "    temp_norm_table.append(T_norm)\n",
        "temp_norm = np.array(temp_norm)\n",
        "temp_norm_table = np.array(temp_norm_table)"
      ],
      "execution_count": 0,
      "outputs": []
    },
    {
      "metadata": {
        "id": "N_vQkgnYlML2",
        "colab_type": "code",
        "outputId": "a5bde8ea-d70f-47d2-b382-d3954a3c0d60",
        "colab": {
          "base_uri": "https://localhost:8080/",
          "height": 300
        }
      },
      "cell_type": "code",
      "source": [
        "#The \"centered difference\" technique fails to calculate the temperature for q = 100\n",
        "#so I will attempt to find it using a plot.\n",
        "\n",
        "plt.figure()\n",
        "plt.plot(np.arange(0,100,1),temp_norm)\n",
        "plt.plot(99,temp_norm[99],'ko',markersize=10)\n",
        "plt.plot(90,temp_norm[90],'ko',markersize=10)\n",
        "plt.text(90,2,'t1',fontsize=13)\n",
        "plt.text(100,2.2,'t2',fontsize=13)\n",
        "plt.title('Finding T_100',fontsize=15)\n",
        "plt.xlabel('Element Number',fontsize=14)\n",
        "plt.ylabel('Temperature (kT/$\\epsilon$)',fontsize=14)\n",
        "\n",
        "#the slope between the two marked points appears constant\n",
        "\n",
        "t2 = temp_norm[99]\n",
        "t1 = temp_norm[90]\n",
        "n2 = 99\n",
        "n1 = 90\n",
        "m = (t2-t1)/(n2-n1)\n",
        "\n",
        "#find b\n",
        "\n",
        "b = t2 - (m * n2)\n",
        "\n",
        "#use y=mx+b to determine T at n = 100\n",
        "\n",
        "T_100 = (m*100) + b\n",
        "\n",
        "#add to the array! \n",
        "\n",
        "temp_norm = np.append(temp_norm,T_100)\n",
        "T_100 = '%.2f' % T_100\n",
        "temp_norm_table = np.append(temp_norm_table,T_100)"
      ],
      "execution_count": 8,
      "outputs": [
        {
          "output_type": "display_data",
          "data": {
            "image/png": "[encoded data removed]",
            "text/plain": [
              "<Figure size 432x288 with 1 Axes>"
            ]
          },
          "metadata": {
            "tags": []
          }
        }
      ]
    },
    {
      "metadata": {
        "id": "RS8-AqYnpYTs",
        "colab_type": "code",
        "outputId": "080a6472-47cd-477c-ff0d-72ae99ca96f7",
        "colab": {
          "base_uri": "https://localhost:8080/",
          "height": 242
        }
      },
      "cell_type": "code",
      "source": [
        "temp_norm_table"
      ],
      "execution_count": 9,
      "outputs": [
        {
          "output_type": "execute_result",
          "data": {
            "text/plain": [
              "array(['0', '0.28', '0.33', '0.37', '0.40', '0.44', '0.47', '0.49',\n",
              "       '0.52', '0.55', '0.58', '0.60', '0.63', '0.65', '0.68', '0.70',\n",
              "       '0.73', '0.75', '0.77', '0.80', '0.82', '0.84', '0.86', '0.89',\n",
              "       '0.91', '0.93', '0.95', '0.98', '1.00', '1.02', '1.04', '1.07',\n",
              "       '1.09', '1.11', '1.13', '1.15', '1.17', '1.20', '1.22', '1.24',\n",
              "       '1.26', '1.28', '1.30', '1.33', '1.35', '1.37', '1.39', '1.41',\n",
              "       '1.43', '1.45', '1.47', '1.50', '1.52', '1.54', '1.56', '1.58',\n",
              "       '1.60', '1.62', '1.64', '1.66', '1.69', '1.71', '1.73', '1.75',\n",
              "       '1.77', '1.79', '1.81', '1.83', '1.85', '1.87', '1.89', '1.92',\n",
              "       '1.94', '1.96', '1.98', '2.00', '2.02', '2.04', '2.06', '2.08',\n",
              "       '2.10', '2.12', '2.14', '2.17', '2.19', '2.21', '2.23', '2.25',\n",
              "       '2.27', '2.29', '2.31', '2.33', '2.35', '2.37', '2.39', '2.41',\n",
              "       '2.44', '2.46', '2.48', '2.50', '2.52'], dtype='<U21')"
            ]
          },
          "metadata": {
            "tags": []
          },
          "execution_count": 9
        }
      ]
    },
    {
      "metadata": {
        "id": "CPKvoQKHskS_",
        "colab_type": "code",
        "colab": {}
      },
      "cell_type": "code",
      "source": [
        "#a similarly meticulous treatment of heat capacity is necessary, if \n",
        "#we are to apply the \"centered difference\" method\n",
        "\n",
        "#let first entry of this column be 0\n",
        "\n",
        "heatcap_norm = [] #C/Nk = (1/N) * (q2-q1) / (t2-t1)\n",
        "heatcap_norm_table = []\n",
        "for n in range(0,100):\n",
        "  if n == 0:\n",
        "    heatcap_norm.append(0) #we know from the given table the first C value.\n",
        "    heatcap_norm_table.append(0)\n",
        "  else:\n",
        "    C_norm = (1/N) * (q[n+1] - q[n-1]) / (temp_norm[n+1] - temp_norm[n-1])\n",
        "    heatcap_norm.append(C_norm)\n",
        "    C_norm = '%.3f' % C_norm\n",
        "    heatcap_norm_table.append(C_norm)\n",
        "heatcap_norm = np.array(heatcap_norm)\n",
        "heatcap_norm_table = np.array(heatcap_norm_table)"
      ],
      "execution_count": 0,
      "outputs": []
    },
    {
      "metadata": {
        "id": "-VLqbM3Zx3Zb",
        "colab_type": "code",
        "outputId": "31246cbd-20f9-42b1-8764-c5c49553bd77",
        "colab": {
          "base_uri": "https://localhost:8080/",
          "height": 300
        }
      },
      "cell_type": "code",
      "source": [
        "#Approximate normalized heat capacity for q = 100\n",
        "\n",
        "plt.figure()\n",
        "plt.plot(np.arange(0,100,1),heatcap_norm)\n",
        "plt.plot(99,heatcap_norm[99],'ko',markersize=10)\n",
        "plt.plot(90,heatcap_norm[90],'ko',markersize=10)\n",
        "plt.text(90,.9,'c1',fontsize=13)\n",
        "plt.text(100,.9,'c2',fontsize=13)\n",
        "plt.title('Finding C_100',fontsize=15)\n",
        "plt.xlabel('Element Number',fontsize=14)\n",
        "plt.ylabel('Heat Capacity (C/Nk)',fontsize=14)\n",
        "\n",
        "#the slope between the two marked points appears constant\n",
        "\n",
        "c2 = heatcap_norm[99]\n",
        "c1 = heatcap_norm[90]\n",
        "n2 = 99\n",
        "n1 = 90\n",
        "m = (c2-c1)/(n2-n1)\n",
        "\n",
        "#find b\n",
        "\n",
        "b = c2 - (m * n2)\n",
        "\n",
        "#use y=mx+b to determine C at n = 100\n",
        "\n",
        "C_100 = (m*100) + b\n",
        "\n",
        "#add to the array! \n",
        "\n",
        "heatcap_norm = np.append(heatcap_norm,C_100)\n",
        "C_100 = '%.3f' % C_100\n",
        "heatcap_norm_table = np.append(heatcap_norm_table,C_100)"
      ],
      "execution_count": 11,
      "outputs": [
        {
          "output_type": "display_data",
          "data": {
            "image/png": "[encoded data removed]",
            "text/plain": [
              "<Figure size 432x288 with 1 Axes>"
            ]
          },
          "metadata": {
            "tags": []
          }
        }
      ]
    },
    {
      "metadata": {
        "id": "DNtiQYxfypil",
        "colab_type": "code",
        "outputId": "d6eff8e4-33f1-415f-872b-52561b09da04",
        "colab": {
          "base_uri": "https://localhost:8080/",
          "height": 276
        }
      },
      "cell_type": "code",
      "source": [
        "heatcap_norm_table"
      ],
      "execution_count": 12,
      "outputs": [
        {
          "output_type": "execute_result",
          "data": {
            "text/plain": [
              "array(['0', '0.122', '0.454', '0.536', '0.594', '0.638', '0.673', '0.702',\n",
              "       '0.727', '0.748', '0.766', '0.781', '0.795', '0.808', '0.819',\n",
              "       '0.829', '0.838', '0.846', '0.853', '0.860', '0.866', '0.872',\n",
              "       '0.877', '0.882', '0.887', '0.891', '0.895', '0.899', '0.902',\n",
              "       '0.905', '0.908', '0.911', '0.914', '0.916', '0.918', '0.921',\n",
              "       '0.923', '0.925', '0.927', '0.928', '0.930', '0.932', '0.933',\n",
              "       '0.935', '0.936', '0.937', '0.939', '0.940', '0.941', '0.942',\n",
              "       '0.943', '0.944', '0.945', '0.946', '0.947', '0.948', '0.949',\n",
              "       '0.950', '0.950', '0.951', '0.952', '0.952', '0.953', '0.954',\n",
              "       '0.954', '0.955', '0.955', '0.956', '0.957', '0.957', '0.958',\n",
              "       '0.958', '0.958', '0.959', '0.959', '0.960', '0.960', '0.961',\n",
              "       '0.961', '0.961', '0.962', '0.962', '0.962', '0.963', '0.963',\n",
              "       '0.963', '0.964', '0.964', '0.964', '0.965', '0.965', '0.965',\n",
              "       '0.965', '0.966', '0.966', '0.966', '0.966', '0.967', '0.967',\n",
              "       '0.966', '0.967'], dtype='<U21')"
            ]
          },
          "metadata": {
            "tags": []
          },
          "execution_count": 12
        }
      ]
    },
    {
      "metadata": {
        "id": "jakdQr6bzaN3",
        "colab_type": "code",
        "outputId": "a70ceec4-bb9c-4063-a762-8ddff71a3765",
        "colab": {
          "base_uri": "https://localhost:8080/",
          "height": 2125
        }
      },
      "cell_type": "code",
      "source": [
        "taybole = Table([q,multiplicity_table,entropy_norm_table,temp_norm_table,heatcap_norm_table],names=('q','Multiplicity', 'S_norm'\n",
        "                                                                                             ,'T_norm','C/Nk'))\n",
        "taybole.show_in_notebook(show_row_index=False) #I AM A MAGICIAN"
      ],
      "execution_count": 13,
      "outputs": [
        {
          "output_type": "execute_result",
          "data": {
            "text/html": [
              "<i>Table length=101</i>\n",
              "<table id=\"table140122023314208-351031\" class=\"table-striped table-bordered table-condensed\">\n",
              "<thead><tr><th>q</th><th>Multiplicity</th><th>S_norm</th><th>T_norm</th><th>C/Nk</th></tr></thead>\n",
              "<tr><td>0</td><td>1.00e+00</td><td>0.00</td><td>0</td><td>0</td></tr>\n",
              "<tr><td>1</td><td>5.00e+01</td><td>3.91</td><td>0.28</td><td>0.122</td></tr>\n",
              "<tr><td>2</td><td>1.28e+03</td><td>7.15</td><td>0.33</td><td>0.454</td></tr>\n",
              "<tr><td>3</td><td>2.21e+04</td><td>10.00</td><td>0.37</td><td>0.536</td></tr>\n",
              "<tr><td>4</td><td>2.93e+05</td><td>12.59</td><td>0.40</td><td>0.594</td></tr>\n",
              "<tr><td>5</td><td>3.16e+06</td><td>14.97</td><td>0.44</td><td>0.638</td></tr>\n",
              "<tr><td>6</td><td>2.90e+07</td><td>17.18</td><td>0.47</td><td>0.673</td></tr>\n",
              "<tr><td>7</td><td>2.32e+08</td><td>19.26</td><td>0.49</td><td>0.702</td></tr>\n",
              "<tr><td>8</td><td>1.65e+09</td><td>21.23</td><td>0.52</td><td>0.727</td></tr>\n",
              "<tr><td>9</td><td>1.06e+10</td><td>23.09</td><td>0.55</td><td>0.748</td></tr>\n",
              "<tr><td>10</td><td>6.28e+10</td><td>24.86</td><td>0.58</td><td>0.766</td></tr>\n",
              "<tr><td>11</td><td>3.43e+11</td><td>26.56</td><td>0.60</td><td>0.781</td></tr>\n",
              "<tr><td>12</td><td>1.74e+12</td><td>28.19</td><td>0.63</td><td>0.795</td></tr>\n",
              "<tr><td>13</td><td>8.31e+12</td><td>29.75</td><td>0.65</td><td>0.808</td></tr>\n",
              "<tr><td>14</td><td>3.74e+13</td><td>31.25</td><td>0.68</td><td>0.819</td></tr>\n",
              "<tr><td>15</td><td>1.60e+14</td><td>32.70</td><td>0.70</td><td>0.829</td></tr>\n",
              "<tr><td>16</td><td>6.48e+14</td><td>34.10</td><td>0.73</td><td>0.838</td></tr>\n",
              "<tr><td>17</td><td>2.52e+15</td><td>35.46</td><td>0.75</td><td>0.846</td></tr>\n",
              "<tr><td>18</td><td>9.36e+15</td><td>36.78</td><td>0.77</td><td>0.853</td></tr>\n",
              "<tr><td>19</td><td>3.35e+16</td><td>38.05</td><td>0.80</td><td>0.860</td></tr>\n",
              "<tr><td>20</td><td>1.16e+17</td><td>39.29</td><td>0.82</td><td>0.866</td></tr>\n",
              "<tr><td>21</td><td>3.85e+17</td><td>40.49</td><td>0.84</td><td>0.872</td></tr>\n",
              "<tr><td>22</td><td>1.24e+18</td><td>41.66</td><td>0.86</td><td>0.877</td></tr>\n",
              "<tr><td>23</td><td>3.89e+18</td><td>42.81</td><td>0.89</td><td>0.882</td></tr>\n",
              "<tr><td>24</td><td>1.18e+19</td><td>43.92</td><td>0.91</td><td>0.887</td></tr>\n",
              "<tr><td>25</td><td>3.51e+19</td><td>45.00</td><td>0.93</td><td>0.891</td></tr>\n",
              "<tr><td>26</td><td>1.01e+20</td><td>46.06</td><td>0.95</td><td>0.895</td></tr>\n",
              "<tr><td>27</td><td>2.85e+20</td><td>47.10</td><td>0.98</td><td>0.899</td></tr>\n",
              "<tr><td>28</td><td>7.83e+20</td><td>48.11</td><td>1.00</td><td>0.902</td></tr>\n",
              "<tr><td>29</td><td>2.11e+21</td><td>49.10</td><td>1.02</td><td>0.905</td></tr>\n",
              "<tr><td>30</td><td>5.54e+21</td><td>50.07</td><td>1.04</td><td>0.908</td></tr>\n",
              "<tr><td>31</td><td>1.43e+22</td><td>51.02</td><td>1.07</td><td>0.911</td></tr>\n",
              "<tr><td>32</td><td>3.62e+22</td><td>51.94</td><td>1.09</td><td>0.914</td></tr>\n",
              "<tr><td>33</td><td>9.00e+22</td><td>52.85</td><td>1.11</td><td>0.916</td></tr>\n",
              "<tr><td>34</td><td>2.20e+23</td><td>53.75</td><td>1.13</td><td>0.918</td></tr>\n",
              "<tr><td>35</td><td>5.27e+23</td><td>54.62</td><td>1.15</td><td>0.921</td></tr>\n",
              "<tr><td>36</td><td>1.24e+24</td><td>55.48</td><td>1.17</td><td>0.923</td></tr>\n",
              "<tr><td>37</td><td>2.89e+24</td><td>56.32</td><td>1.20</td><td>0.925</td></tr>\n",
              "<tr><td>38</td><td>6.63e+24</td><td>57.15</td><td>1.22</td><td>0.927</td></tr>\n",
              "<tr><td>39</td><td>1.49e+25</td><td>57.97</td><td>1.24</td><td>0.928</td></tr>\n",
              "<tr><td>40</td><td>3.33e+25</td><td>58.77</td><td>1.26</td><td>0.930</td></tr>\n",
              "<tr><td>41</td><td>7.30e+25</td><td>59.55</td><td>1.28</td><td>0.932</td></tr>\n",
              "<tr><td>42</td><td>1.58e+26</td><td>60.33</td><td>1.30</td><td>0.933</td></tr>\n",
              "<tr><td>43</td><td>3.38e+26</td><td>61.09</td><td>1.33</td><td>0.935</td></tr>\n",
              "<tr><td>44</td><td>7.15e+26</td><td>61.83</td><td>1.35</td><td>0.936</td></tr>\n",
              "<tr><td>45</td><td>1.49e+27</td><td>62.57</td><td>1.37</td><td>0.937</td></tr>\n",
              "<tr><td>46</td><td>3.09e+27</td><td>63.30</td><td>1.39</td><td>0.939</td></tr>\n",
              "<tr><td>47</td><td>6.30e+27</td><td>64.01</td><td>1.41</td><td>0.940</td></tr>\n",
              "<tr><td>48</td><td>1.27e+28</td><td>64.71</td><td>1.43</td><td>0.941</td></tr>\n",
              "<tr><td>49</td><td>2.55e+28</td><td>65.41</td><td>1.45</td><td>0.942</td></tr>\n",
              "<tr><td>50</td><td>5.04e+28</td><td>66.09</td><td>1.47</td><td>0.943</td></tr>\n",
              "<tr><td>51</td><td>9.89e+28</td><td>66.76</td><td>1.50</td><td>0.944</td></tr>\n",
              "<tr><td>52</td><td>1.92e+29</td><td>67.43</td><td>1.52</td><td>0.945</td></tr>\n",
              "<tr><td>53</td><td>3.70e+29</td><td>68.08</td><td>1.54</td><td>0.946</td></tr>\n",
              "<tr><td>54</td><td>7.05e+29</td><td>68.73</td><td>1.56</td><td>0.947</td></tr>\n",
              "<tr><td>55</td><td>1.33e+30</td><td>69.37</td><td>1.58</td><td>0.948</td></tr>\n",
              "<tr><td>56</td><td>2.50e+30</td><td>69.99</td><td>1.60</td><td>0.949</td></tr>\n",
              "<tr><td>57</td><td>4.65e+30</td><td>70.61</td><td>1.62</td><td>0.950</td></tr>\n",
              "<tr><td>58</td><td>8.58e+30</td><td>71.23</td><td>1.64</td><td>0.950</td></tr>\n",
              "<tr><td>59</td><td>1.57e+31</td><td>71.83</td><td>1.66</td><td>0.951</td></tr>\n",
              "<tr><td>60</td><td>2.85e+31</td><td>72.43</td><td>1.69</td><td>0.952</td></tr>\n",
              "<tr><td>61</td><td>5.14e+31</td><td>73.02</td><td>1.71</td><td>0.952</td></tr>\n",
              "<tr><td>62</td><td>9.21e+31</td><td>73.60</td><td>1.73</td><td>0.953</td></tr>\n",
              "<tr><td>63</td><td>1.64e+32</td><td>74.18</td><td>1.75</td><td>0.954</td></tr>\n",
              "<tr><td>64</td><td>2.89e+32</td><td>74.74</td><td>1.77</td><td>0.954</td></tr>\n",
              "<tr><td>65</td><td>5.07e+32</td><td>75.31</td><td>1.79</td><td>0.955</td></tr>\n",
              "<tr><td>66</td><td>8.83e+32</td><td>75.86</td><td>1.81</td><td>0.955</td></tr>\n",
              "<tr><td>67</td><td>1.53e+33</td><td>76.41</td><td>1.83</td><td>0.956</td></tr>\n",
              "<tr><td>68</td><td>2.63e+33</td><td>76.95</td><td>1.85</td><td>0.957</td></tr>\n",
              "<tr><td>69</td><td>4.50e+33</td><td>77.49</td><td>1.87</td><td>0.957</td></tr>\n",
              "<tr><td>70</td><td>7.65e+33</td><td>78.02</td><td>1.89</td><td>0.958</td></tr>\n",
              "<tr><td>71</td><td>1.29e+34</td><td>78.54</td><td>1.92</td><td>0.958</td></tr>\n",
              "<tr><td>72</td><td>2.17e+34</td><td>79.06</td><td>1.94</td><td>0.958</td></tr>\n",
              "<tr><td>73</td><td>3.63e+34</td><td>79.58</td><td>1.96</td><td>0.959</td></tr>\n",
              "<tr><td>74</td><td>6.04e+34</td><td>80.09</td><td>1.98</td><td>0.959</td></tr>\n",
              "<tr><td>75</td><td>9.98e+34</td><td>80.59</td><td>2.00</td><td>0.960</td></tr>\n",
              "<tr><td>76</td><td>1.64e+35</td><td>81.09</td><td>2.02</td><td>0.960</td></tr>\n",
              "<tr><td>77</td><td>2.69e+35</td><td>81.58</td><td>2.04</td><td>0.961</td></tr>\n",
              "<tr><td>78</td><td>4.37e+35</td><td>82.07</td><td>2.06</td><td>0.961</td></tr>\n",
              "<tr><td>79</td><td>7.09e+35</td><td>82.55</td><td>2.08</td><td>0.961</td></tr>\n",
              "<tr><td>80</td><td>1.14e+36</td><td>83.03</td><td>2.10</td><td>0.962</td></tr>\n",
              "<tr><td>81</td><td>1.83e+36</td><td>83.50</td><td>2.12</td><td>0.962</td></tr>\n",
              "<tr><td>82</td><td>2.93e+36</td><td>83.97</td><td>2.14</td><td>0.962</td></tr>\n",
              "<tr><td>83</td><td>4.66e+36</td><td>84.43</td><td>2.17</td><td>0.963</td></tr>\n",
              "<tr><td>84</td><td>7.38e+36</td><td>84.89</td><td>2.19</td><td>0.963</td></tr>\n",
              "<tr><td>85</td><td>1.16e+37</td><td>85.35</td><td>2.21</td><td>0.963</td></tr>\n",
              "<tr><td>86</td><td>1.83e+37</td><td>85.80</td><td>2.23</td><td>0.964</td></tr>\n",
              "<tr><td>87</td><td>2.85e+37</td><td>86.24</td><td>2.25</td><td>0.964</td></tr>\n",
              "<tr><td>88</td><td>4.44e+37</td><td>86.69</td><td>2.27</td><td>0.964</td></tr>\n",
              "<tr><td>89</td><td>6.89e+37</td><td>87.13</td><td>2.29</td><td>0.965</td></tr>\n",
              "<tr><td>90</td><td>1.06e+38</td><td>87.56</td><td>2.31</td><td>0.965</td></tr>\n",
              "<tr><td>91</td><td>1.64e+38</td><td>87.99</td><td>2.33</td><td>0.965</td></tr>\n",
              "<tr><td>92</td><td>2.51e+38</td><td>88.42</td><td>2.35</td><td>0.965</td></tr>\n",
              "<tr><td>93</td><td>3.83e+38</td><td>88.84</td><td>2.37</td><td>0.966</td></tr>\n",
              "<tr><td>94</td><td>5.83e+38</td><td>89.26</td><td>2.39</td><td>0.966</td></tr>\n",
              "<tr><td>95</td><td>8.83e+38</td><td>89.68</td><td>2.41</td><td>0.966</td></tr>\n",
              "<tr><td>96</td><td>1.33e+39</td><td>90.09</td><td>2.44</td><td>0.966</td></tr>\n",
              "<tr><td>97</td><td>2.01e+39</td><td>90.50</td><td>2.46</td><td>0.967</td></tr>\n",
              "<tr><td>98</td><td>3.01e+39</td><td>90.90</td><td>2.48</td><td>0.967</td></tr>\n",
              "<tr><td>99</td><td>4.50e+39</td><td>91.31</td><td>2.50</td><td>0.966</td></tr>\n",
              "<tr><td>100</td><td>6.71e+39</td><td>91.70</td><td>2.52</td><td>0.967</td></tr>\n",
              "</table><style>table.dataTable {clear: both; width: auto !important; margin: 0 !important;}\n",
              ".dataTables_info, .dataTables_length, .dataTables_filter, .dataTables_paginate{\n",
              "display: inline-block; margin-right: 1em; }\n",
              ".paginate_button { margin-right: 5px; }\n",
              "</style>\n",
              "<script>\n",
              "\n",
              "var astropy_sort_num = function(a, b) {\n",
              "    var a_num = parseFloat(a);\n",
              "    var b_num = parseFloat(b);\n",
              "\n",
              "    if (isNaN(a_num) && isNaN(b_num))\n",
              "        return ((a < b) ? -1 : ((a > b) ? 1 : 0));\n",
              "    else if (!isNaN(a_num) && !isNaN(b_num))\n",
              "        return ((a_num < b_num) ? -1 : ((a_num > b_num) ? 1 : 0));\n",
              "    else\n",
              "        return isNaN(a_num) ? -1 : 1;\n",
              "}\n",
              "\n",
              "require.config({paths: {\n",
              "    datatables: 'https://cdn.datatables.net/1.10.12/js/jquery.dataTables.min'\n",
              "}});\n",
              "require([\"datatables\"], function(){\n",
              "    console.log(\"$('#table140122023314208-351031').dataTable()\");\n",
              "    \n",
              "jQuery.extend( jQuery.fn.dataTableExt.oSort, {\n",
              "    \"optionalnum-asc\": astropy_sort_num,\n",
              "    \"optionalnum-desc\": function (a,b) { return -astropy_sort_num(a, b); }\n",
              "});\n",
              "\n",
              "    $('#table140122023314208-351031').dataTable({\n",
              "        order: [],\n",
              "        pageLength: 50,\n",
              "        lengthMenu: [[10, 25, 50, 100, 500, 1000, -1], [10, 25, 50, 100, 500, 1000, 'All']],\n",
              "        pagingType: \"full_numbers\",\n",
              "        columnDefs: [{targets: [0], type: \"optionalnum\"}]\n",
              "    });\n",
              "});\n",
              "</script>\n"
            ],
            "text/plain": [
              "<IPython.core.display.HTML object>"
            ]
          },
          "metadata": {
            "tags": []
          },
          "execution_count": 13
        }
      ]
    },
    {
      "metadata": {
        "id": "VcP3bbxnrUYv",
        "colab_type": "code",
        "outputId": "27a98bdc-855b-4be9-cffc-f902235b56de",
        "colab": {
          "base_uri": "https://localhost:8080/",
          "height": 317
        }
      },
      "cell_type": "code",
      "source": [
        "#Entropy vs. Energy Plot\n",
        "\n",
        "plt.figure()\n",
        "plt.plot(q,entropy_norm,'r--')\n",
        "plt.title('Entropy as a Function of q for an Einstein Solid',fontsize=15)\n",
        "plt.xlabel('q',fontsize=14)\n",
        "plt.ylabel('S/k',fontsize=14)\n",
        "plt.text(50,30,'As energy rises, entropy',fontsize=11)\n",
        "plt.text(50,25,'approaches a maximum.',fontsize=11)\n",
        "plt.ylim(0,100)"
      ],
      "execution_count": 14,
      "outputs": [
        {
          "output_type": "execute_result",
          "data": {
            "text/plain": [
              "(0, 100)"
            ]
          },
          "metadata": {
            "tags": []
          },
          "execution_count": 14
        },
        {
          "output_type": "display_data",
          "data": {
            "image/png": "[encoded data removed]",
            "text/plain": [
              "<Figure size 432x288 with 1 Axes>"
            ]
          },
          "metadata": {
            "tags": []
          }
        }
      ]
    },
    {
      "metadata": {
        "id": "XCa_i9TgsbKz",
        "colab_type": "code",
        "outputId": "ceaabcaa-23ce-47ef-9ff8-4cbd786d0eae",
        "colab": {
          "base_uri": "https://localhost:8080/",
          "height": 321
        }
      },
      "cell_type": "code",
      "source": [
        "#Heat Capacity v. Temperature Plot\n",
        "#This analytic solution generates a plot that is somewhat jagged at lower temps.\n",
        "\n",
        "plt.figure()\n",
        "plt.plot(temp_norm,heatcap_norm)\n",
        "plt.title('Heat Capacity v. Temperature for an Einstein Solid',fontsize=15)\n",
        "plt.xlabel('Temperature (kT/$\\epsilon$)',fontsize=14)\n",
        "plt.ylabel('Heat Capacity (C/Nk)',fontsize=14)"
      ],
      "execution_count": 15,
      "outputs": [
        {
          "output_type": "execute_result",
          "data": {
            "text/plain": [
              "Text(0, 0.5, 'Heat Capacity (C/Nk)')"
            ]
          },
          "metadata": {
            "tags": []
          },
          "execution_count": 15
        },
        {
          "output_type": "display_data",
          "data": {
            "image/png": "[encoded data removed]",
            "text/plain": [
              "<Figure size 432x288 with 1 Axes>"
            ]
          },
          "metadata": {
            "tags": []
          }
        }
      ]
    },
    {
      "metadata": {
        "id": "TxIv56h5L1bM",
        "colab_type": "text"
      },
      "cell_type": "markdown",
      "source": [
        "# PART TWO"
      ]
    },
    {
      "metadata": {
        "id": "pWOuRnJbCjbp",
        "colab_type": "code",
        "colab": {}
      },
      "cell_type": "code",
      "source": [
        "import sys\n",
        "import numpy as np\n",
        "from math import log"
      ],
      "execution_count": 0,
      "outputs": []
    },
    {
      "metadata": {
        "id": "oWVyCbph0mBd",
        "colab_type": "code",
        "colab": {}
      },
      "cell_type": "code",
      "source": [
        "#For q = 100 but N = 5000; the aim is to investigate the nature of a diluted\n",
        "#Einstein solid (i.e. more scattering of energy units among the oscillators).\n",
        "\n",
        "N = 5000\n",
        "\n",
        "multiplicity = [] #for calculations\n",
        "for i in q:\n",
        "  mult_q = factorial(N+i-1)/(factorial(i)*factorial(N-1))\n",
        "  multiplicity.append(mult_q)\n",
        "multiplicity = np.array(multiplicity) #conversion to numpy array\n",
        "\n",
        "entropy_norm = []\n",
        "for i in multiplicity:\n",
        "  S_k = np.log(i) #S = k*ln(multiplicity)\n",
        "  entropy_norm.append(S_k)\n",
        "entropy_norm = np.array(entropy_norm)\n",
        "\n",
        "temp_norm = [] \n",
        "for n in range(0,100):\n",
        "  if n == 0:\n",
        "    temp_norm.append(0) #we know from the given table the first T value.\n",
        "  else:\n",
        "    T_norm = (q[n+1] - q[n-1]) / (entropy_norm[n+1] - entropy_norm[n-1])\n",
        "    temp_norm.append(T_norm)\n",
        "temp_norm = np.array(temp_norm)\n",
        "\n",
        "heatcap_norm = []\n",
        "for n in range(0,100-1):\n",
        "  if n == 0:\n",
        "    heatcap_norm.append(0) #we know from the given table the first C value.\n",
        "  else:\n",
        "    C_norm = (1/N) * (q[n+1] - q[n-1]) / (temp_norm[n+1] - temp_norm[n-1])\n",
        "    heatcap_norm.append(C_norm)\n",
        "heatcap_norm.append(0.3123)\n",
        "heatcap_norm = np.array(heatcap_norm)"
      ],
      "execution_count": 0,
      "outputs": []
    },
    {
      "metadata": {
        "id": "sUg7QitzL1J4",
        "colab_type": "code",
        "outputId": "790f14a0-0c6c-48b8-c314-1561f22805aa",
        "colab": {
          "base_uri": "https://localhost:8080/",
          "height": 321
        }
      },
      "cell_type": "code",
      "source": [
        "#Heat capacity v. temperature\n",
        "\n",
        "plt.figure()\n",
        "plt.plot(temp_norm,heatcap_norm,label='Einstein Solid')\n",
        "plt.title('Heat Capacity v. Temperature for an Einstein Solid (N=5000)',fontsize=15)\n",
        "plt.xlabel('Temperature (kT/$\\epsilon$)',fontsize=14)\n",
        "plt.ylabel('Heat Capacity (C/Nk)',fontsize=14)"
      ],
      "execution_count": 18,
      "outputs": [
        {
          "output_type": "execute_result",
          "data": {
            "text/plain": [
              "Text(0, 0.5, 'Heat Capacity (C/Nk)')"
            ]
          },
          "metadata": {
            "tags": []
          },
          "execution_count": 18
        },
        {
          "output_type": "display_data",
          "data": {
            "image/png": "[encoded data removed]",
            "text/plain": [
              "<Figure size 432x288 with 1 Axes>"
            ]
          },
          "metadata": {
            "tags": []
          }
        }
      ]
    },
    {
      "metadata": {
        "id": "hcuCPuTZqL_L",
        "colab_type": "text"
      },
      "cell_type": "markdown",
      "source": [
        "The temperature per unit energy is considerably lower than that for an Einstein solid with more oscillators. Comparing to Figure 1.14, this plot best resembles the curve for diamond, whereas the curves for lead or aluminium better match the N = 50 plots. Given the description of 1.14 explicitly states that the data are for one mole of each substance, which translates for our purposes to the number of oscillators being held fixed, we cannot claim diamond best resembles N=5000 because its molecular structure is more compact and thus contains more oscillators than lead or aluminium per some unit area.\n",
        "\n",
        "A second option is to investigate the size of $\\epsilon$, as that variable encodes the amount of energy each oscillator can have (which may be due to the size of the atoms..? Dr. McColgan, please confirm!).\n",
        "\n",
        "[I should note that https://www.quora.com/Why-do-different-materials-have-different-specific-heat-capacities helped me confirm my suspicions about $\\epsilon$.]\n",
        "\n",
        "To do so, I am going to be a bit cheeky and remove the normalization hocus pocus from the variables. In essence, I am recreating my numpy arrays but including the Boltzmann Constants n' such. I will report my findings in a text box below. If I do not return, please inform my mother I apologize about disobeying her instruction to shower this evening."
      ]
    },
    {
      "metadata": {
        "id": "E5l_B8yIp5Dm",
        "colab_type": "code",
        "colab": {}
      },
      "cell_type": "code",
      "source": [
        "N = 5000\n",
        "k = 1.381e-23\n",
        "\n",
        "multiplicity = [] #for calculations\n",
        "for i in q:\n",
        "  mult_q = factorial(N+i-1)/(factorial(i)*factorial(N-1))\n",
        "  multiplicity.append(mult_q)\n",
        "multiplicity = np.array(multiplicity) #conversion to numpy array\n",
        "\n",
        "entropy = []\n",
        "for i in multiplicity:\n",
        "  S_k = k * np.log(i) #S = k*ln(multiplicity)\n",
        "  entropy.append(S_k)\n",
        "entropy = np.array(entropy)\n",
        "\n",
        "temp = [] \n",
        "for n in range(0,100):\n",
        "  if n == 0:\n",
        "    temp.append(0) #we know from the given table the first T value.\n",
        "  else:\n",
        "    T = (q[n+1] - q[n-1]) / (entropy[n+1] - entropy[n-1])\n",
        "    temp.append(T)\n",
        "temp = np.array(temp)\n",
        "\n",
        "heatcap = []\n",
        "for n in range(0,100-1):\n",
        "  if n == 0:\n",
        "    heatcap.append(0) #we know from the given table the first C value.\n",
        "  else:\n",
        "    C = (q[n+1] - q[n-1]) / (temp[n+1] - temp[n-1])\n",
        "    heatcap.append(C)\n",
        "heatcap.append(np.max(heatcap))\n",
        "heatcap = np.array(heatcap)"
      ],
      "execution_count": 0,
      "outputs": []
    },
    {
      "metadata": {
        "id": "FLY3pv4BNSjB",
        "colab_type": "code",
        "outputId": "7bbae06b-2d31-432f-f790-40d6ee7de12b",
        "colab": {
          "base_uri": "https://localhost:8080/",
          "height": 319
        }
      },
      "cell_type": "code",
      "source": [
        "eps = 'dunno'\n",
        "eps1 = 2.2e-20 #some arbitrary value of epsilon\n",
        "\n",
        "\n",
        "\n",
        "plt.figure()\n",
        "#plt.plot(temp_norm,heatcap_norm,label='Einstein Solid')\n",
        "plt.plot(temp*eps1,heatcap,label='Einstein Solid')\n",
        "#plt.title('Heat Capacity v. Temperature for an Einstein Solid (N=5000)',fontsize=15)\n",
        "plt.xlabel('Temperature (K)',fontsize=14)\n",
        "plt.ylabel('Heat Capacity (J/K)',fontsize=14)\n",
        "plt.title('C vs. T for' ' ' '$\\epsilon$' ' =1e-20 J ' 'at N=5000',fontsize=14)\n",
        "plt.ylim(-0.1e-20, 4e-20)"
      ],
      "execution_count": 22,
      "outputs": [
        {
          "output_type": "execute_result",
          "data": {
            "text/plain": [
              "(-1e-21, 4e-20)"
            ]
          },
          "metadata": {
            "tags": []
          },
          "execution_count": 22
        },
        {
          "output_type": "display_data",
          "data": {
            "image/png": "[encoded data removed]",
            "text/plain": [
              "<Figure size 432x288 with 1 Axes>"
            ]
          },
          "metadata": {
            "tags": []
          }
        }
      ]
    },
    {
      "metadata": {
        "id": "XA0DakA1V32N",
        "colab_type": "code",
        "colab": {
          "base_uri": "https://localhost:8080/",
          "height": 319
        },
        "outputId": "f9310294-e2ad-4924-be0e-ea9fab7438d8"
      },
      "cell_type": "code",
      "source": [
        "eps = 'dunno'\n",
        "eps1 = 2.2e-20 #some arbitrary value of epsilon\n",
        "\n",
        "\n",
        "\n",
        "plt.figure()\n",
        "#plt.plot(temp_norm,heatcap_norm,label='Einstein Solid')\n",
        "plt.plot(temp*eps1,heatcap,label='Einstein Solid')\n",
        "#plt.title('Heat Capacity v. Temperature for an Einstein Solid (N=5000)',fontsize=15)\n",
        "plt.xlabel('Temperature (K)',fontsize=14)\n",
        "plt.ylabel('Heat Capacity (J/K)',fontsize=14)\n",
        "plt.title('C vs. T for' ' ' '$\\epsilon$' ' =1e-20 J ' 'at N=5000',fontsize=14)\n",
        "plt.ylim(-0.1e-20, 4e-20)"
      ],
      "execution_count": 26,
      "outputs": [
        {
          "output_type": "execute_result",
          "data": {
            "text/plain": [
              "(-1e-21, 4e-20)"
            ]
          },
          "metadata": {
            "tags": []
          },
          "execution_count": 26
        },
        {
          "output_type": "display_data",
          "data": {
            "image/png": "[encoded data removed]",
            "text/plain": [
              "<Figure size 432x288 with 1 Axes>"
            ]
          },
          "metadata": {
            "tags": []
          }
        }
      ]
    },
    {
      "metadata": {
        "id": "mFoKhoDDI1p3",
        "colab_type": "text"
      },
      "cell_type": "markdown",
      "source": [
        "The trend I am noticing is that as $\\epsilon$ increases, heat capacity decreases."
      ]
    }
  ]
}